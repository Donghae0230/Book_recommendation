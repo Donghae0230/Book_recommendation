{
  "nbformat": 4,
  "nbformat_minor": 0,
  "metadata": {
    "colab": {
      "name": "visualization.ipynb",
      "provenance": [],
      "collapsed_sections": []
    },
    "kernelspec": {
      "name": "python3",
      "display_name": "Python 3"
    },
    "language_info": {
      "name": "python"
    }
  },
  "cells": [
    {
      "cell_type": "markdown",
      "source": [
        "### 🙋‍♂️***알라딘 카테고리 별 BestSeller 데이터 수집***\n",
        "- 알라딘 측에서 발급받은 TTB KEY 사용\n",
        "- json 파일을 Data Frame 형태로 변환"
      ],
      "metadata": {
        "id": "wReFsdakPD_k"
      }
    },
    {
      "cell_type": "code",
      "source": [
        "import requests\n",
        "import json\n",
        "import pandas as pd\n",
        "import numpy as np"
      ],
      "metadata": {
        "id": "KIC0HooPSW7n"
      },
      "execution_count": null,
      "outputs": []
    },
    {
      "cell_type": "code",
      "source": [
        "def getBookData():\n",
        "    TTB_KEY = ''\n",
        "    params = {\n",
        "            'ttbkey':TTB_KEY,\n",
        "            'QueryType':'Bestseller',\n",
        "            'MaxResults':'50',\n",
        "            'SearchTarget':'Book',\n",
        "            'output':'JS',\n",
        "            'Version':'20131101',\n",
        "            'Cover':'Big'}\n",
        "\n",
        "    cat_list = {\n",
        "            '소설/시/희곡':'1',\n",
        "            '경제경영': '170',\n",
        "            '과학':'987',\n",
        "            '사회과학':'798',\n",
        "            '에세이':'55889',\n",
        "            '역사':'74',\n",
        "            '예술/대중문화':'517',\n",
        "            '인문학':'656',\n",
        "            '자기계발':'336',\n",
        "            '장르소설':'112011',\n",
        "            '가정/요리/뷰티':'1230',\n",
        "            '건강/취미/레저':'55890',\n",
        "            '좋은부모':'2030',\n",
        "            '컴퓨터/모바일':'351',\n",
        "            '여행':'1196',\n",
        "            '청소년':'1137',\n",
        "            '고전':'2105'}\n",
        "\n",
        "    df = pd.DataFrame()             # 도서 정보를 저장할 데이터 프레임 생성\n",
        "    for cat_name in cat_list.values():\n",
        "        for page in range(1, 15):   # 총 결과는 1,000개까지만 조회 가능(페이지 당 50권)\n",
        "            API_URL = f'http://www.aladin.co.kr/ttb/api/ItemList.aspx?Start={page}&CategoryId={cat_name}'\n",
        "    \n",
        "            raw_data = requests.get(API_URL, params=params)\n",
        "            parsed_data = json.loads(raw_data.text, strict=False)\n",
        "            df = pd.concat([df, pd.DataFrame(parsed_data['item'])])\n",
        "    return df\n",
        "\n",
        "df = getBookData()\n",
        "df.head()"
      ],
      "metadata": {
        "colab": {
          "base_uri": "https://localhost:8080/",
          "height": 808
        },
        "id": "kJPxmgZRPbB4",
        "outputId": "58f63e37-3963-4bd5-e315-ddf54bdf25f0"
      },
      "execution_count": null,
      "outputs": [
        {
          "output_type": "execute_result",
          "data": {
            "text/html": [
              "\n",
              "  <div id=\"df-bdd6e93e-9b61-4d84-a603-ae7822a866ed\">\n",
              "    <div class=\"colab-df-container\">\n",
              "      <div>\n",
              "<style scoped>\n",
              "    .dataframe tbody tr th:only-of-type {\n",
              "        vertical-align: middle;\n",
              "    }\n",
              "\n",
              "    .dataframe tbody tr th {\n",
              "        vertical-align: top;\n",
              "    }\n",
              "\n",
              "    .dataframe thead th {\n",
              "        text-align: right;\n",
              "    }\n",
              "</style>\n",
              "<table border=\"1\" class=\"dataframe\">\n",
              "  <thead>\n",
              "    <tr style=\"text-align: right;\">\n",
              "      <th></th>\n",
              "      <th>title</th>\n",
              "      <th>link</th>\n",
              "      <th>author</th>\n",
              "      <th>pubDate</th>\n",
              "      <th>description</th>\n",
              "      <th>isbn</th>\n",
              "      <th>isbn13</th>\n",
              "      <th>itemId</th>\n",
              "      <th>priceSales</th>\n",
              "      <th>priceStandard</th>\n",
              "      <th>mallType</th>\n",
              "      <th>stockStatus</th>\n",
              "      <th>mileage</th>\n",
              "      <th>cover</th>\n",
              "      <th>categoryId</th>\n",
              "      <th>categoryName</th>\n",
              "      <th>publisher</th>\n",
              "      <th>salesPoint</th>\n",
              "      <th>adult</th>\n",
              "      <th>fixedPrice</th>\n",
              "      <th>customerReviewRank</th>\n",
              "      <th>bestRank</th>\n",
              "      <th>subInfo</th>\n",
              "      <th>seriesInfo</th>\n",
              "    </tr>\n",
              "  </thead>\n",
              "  <tbody>\n",
              "    <tr>\n",
              "      <th>0</th>\n",
              "      <td>불편한 편의점</td>\n",
              "      <td>http://www.aladin.co.kr/shop/wproduct.aspx?Ite...</td>\n",
              "      <td>김호연 (지은이)</td>\n",
              "      <td>2021-04-20</td>\n",
              "      <td>&amp;lt;망원동 브라더스&amp;gt;의 작가 김호연의 '동네이야기' 시즌 2. 청파동 골목...</td>\n",
              "      <td>K582730818</td>\n",
              "      <td>9791161571188</td>\n",
              "      <td>269428498</td>\n",
              "      <td>12600</td>\n",
              "      <td>14000</td>\n",
              "      <td>BOOK</td>\n",
              "      <td></td>\n",
              "      <td>700</td>\n",
              "      <td>https://image.aladin.co.kr/product/26942/84/co...</td>\n",
              "      <td>50993</td>\n",
              "      <td>국내도서&gt;소설/시/희곡&gt;한국소설&gt;2000년대 이후 한국소설</td>\n",
              "      <td>나무옆의자</td>\n",
              "      <td>277127</td>\n",
              "      <td>False</td>\n",
              "      <td>True</td>\n",
              "      <td>10</td>\n",
              "      <td>1</td>\n",
              "      <td>{}</td>\n",
              "      <td>NaN</td>\n",
              "    </tr>\n",
              "    <tr>\n",
              "      <th>1</th>\n",
              "      <td>이방인 2</td>\n",
              "      <td>http://www.aladin.co.kr/shop/wproduct.aspx?Ite...</td>\n",
              "      <td>선명 (지은이)</td>\n",
              "      <td>2022-02-24</td>\n",
              "      <td>연우정의 세계에 조금씩 스며들던 지호의 앞에 아버지가 나타난다. 오백이란 빚을 지고...</td>\n",
              "      <td>K332836111</td>\n",
              "      <td>9791167790651</td>\n",
              "      <td>289210224</td>\n",
              "      <td>12600</td>\n",
              "      <td>14000</td>\n",
              "      <td>BOOK</td>\n",
              "      <td>예약판매</td>\n",
              "      <td>700</td>\n",
              "      <td>https://image.aladin.co.kr/product/28921/2/cov...</td>\n",
              "      <td>181723</td>\n",
              "      <td>국내도서&gt;소설/시/희곡&gt;로맨스소설&gt;국내 BL</td>\n",
              "      <td>영컴(YOUNG COM)</td>\n",
              "      <td>24250</td>\n",
              "      <td>True</td>\n",
              "      <td>True</td>\n",
              "      <td>10</td>\n",
              "      <td>2</td>\n",
              "      <td>{}</td>\n",
              "      <td>NaN</td>\n",
              "    </tr>\n",
              "    <tr>\n",
              "      <th>2</th>\n",
              "      <td>어서 오세요, 휴남동 서점입니다</td>\n",
              "      <td>http://www.aladin.co.kr/shop/wproduct.aspx?Ite...</td>\n",
              "      <td>황보름 (지은이)</td>\n",
              "      <td>2022-01-17</td>\n",
              "      <td>크고 작은 상처와 희망을 가진 사람들이 휴남동 서점이라는 공간을 안식처로 삼아 함께...</td>\n",
              "      <td>K362836265</td>\n",
              "      <td>9791197377143</td>\n",
              "      <td>286859586</td>\n",
              "      <td>13500</td>\n",
              "      <td>15000</td>\n",
              "      <td>BOOK</td>\n",
              "      <td></td>\n",
              "      <td>750</td>\n",
              "      <td>https://image.aladin.co.kr/product/28685/95/co...</td>\n",
              "      <td>50993</td>\n",
              "      <td>국내도서&gt;소설/시/희곡&gt;한국소설&gt;2000년대 이후 한국소설</td>\n",
              "      <td>클레이하우스</td>\n",
              "      <td>72845</td>\n",
              "      <td>False</td>\n",
              "      <td>True</td>\n",
              "      <td>9</td>\n",
              "      <td>3</td>\n",
              "      <td>{}</td>\n",
              "      <td>NaN</td>\n",
              "    </tr>\n",
              "    <tr>\n",
              "      <th>3</th>\n",
              "      <td>밝은 밤</td>\n",
              "      <td>http://www.aladin.co.kr/shop/wproduct.aspx?Ite...</td>\n",
              "      <td>최은영 (지은이)</td>\n",
              "      <td>2021-07-27</td>\n",
              "      <td>공감을 불러일으키는 이야기와 서정적이며 사려 깊은 문장, 그리고 그 안에 자리한 뜨...</td>\n",
              "      <td>K312835925</td>\n",
              "      <td>9788954681179</td>\n",
              "      <td>275419192</td>\n",
              "      <td>13050</td>\n",
              "      <td>14500</td>\n",
              "      <td>BOOK</td>\n",
              "      <td></td>\n",
              "      <td>720</td>\n",
              "      <td>https://image.aladin.co.kr/product/27541/91/co...</td>\n",
              "      <td>50993</td>\n",
              "      <td>국내도서&gt;소설/시/희곡&gt;한국소설&gt;2000년대 이후 한국소설</td>\n",
              "      <td>문학동네</td>\n",
              "      <td>164650</td>\n",
              "      <td>False</td>\n",
              "      <td>True</td>\n",
              "      <td>10</td>\n",
              "      <td>4</td>\n",
              "      <td>{}</td>\n",
              "      <td>NaN</td>\n",
              "    </tr>\n",
              "    <tr>\n",
              "      <th>4</th>\n",
              "      <td>백광</td>\n",
              "      <td>http://www.aladin.co.kr/shop/wproduct.aspx?Ite...</td>\n",
              "      <td>렌조 미키히코 (지은이), 양윤옥 (옮긴이)</td>\n",
              "      <td>2022-02-14</td>\n",
              "      <td>세상이 전부 녹아내릴 듯 뜨겁던 여름날. 어느 가정집 안마당에서 네 살 난 여자아이...</td>\n",
              "      <td>K652836302</td>\n",
              "      <td>9791191043617</td>\n",
              "      <td>288756034</td>\n",
              "      <td>13050</td>\n",
              "      <td>14500</td>\n",
              "      <td>BOOK</td>\n",
              "      <td></td>\n",
              "      <td>720</td>\n",
              "      <td>https://image.aladin.co.kr/product/28875/60/co...</td>\n",
              "      <td>51058</td>\n",
              "      <td>국내도서&gt;소설/시/희곡&gt;추리/미스터리소설&gt;일본 추리/미스터리소설</td>\n",
              "      <td>모모</td>\n",
              "      <td>19560</td>\n",
              "      <td>False</td>\n",
              "      <td>True</td>\n",
              "      <td>10</td>\n",
              "      <td>5</td>\n",
              "      <td>{}</td>\n",
              "      <td>NaN</td>\n",
              "    </tr>\n",
              "  </tbody>\n",
              "</table>\n",
              "</div>\n",
              "      <button class=\"colab-df-convert\" onclick=\"convertToInteractive('df-bdd6e93e-9b61-4d84-a603-ae7822a866ed')\"\n",
              "              title=\"Convert this dataframe to an interactive table.\"\n",
              "              style=\"display:none;\">\n",
              "        \n",
              "  <svg xmlns=\"http://www.w3.org/2000/svg\" height=\"24px\"viewBox=\"0 0 24 24\"\n",
              "       width=\"24px\">\n",
              "    <path d=\"M0 0h24v24H0V0z\" fill=\"none\"/>\n",
              "    <path d=\"M18.56 5.44l.94 2.06.94-2.06 2.06-.94-2.06-.94-.94-2.06-.94 2.06-2.06.94zm-11 1L8.5 8.5l.94-2.06 2.06-.94-2.06-.94L8.5 2.5l-.94 2.06-2.06.94zm10 10l.94 2.06.94-2.06 2.06-.94-2.06-.94-.94-2.06-.94 2.06-2.06.94z\"/><path d=\"M17.41 7.96l-1.37-1.37c-.4-.4-.92-.59-1.43-.59-.52 0-1.04.2-1.43.59L10.3 9.45l-7.72 7.72c-.78.78-.78 2.05 0 2.83L4 21.41c.39.39.9.59 1.41.59.51 0 1.02-.2 1.41-.59l7.78-7.78 2.81-2.81c.8-.78.8-2.07 0-2.86zM5.41 20L4 18.59l7.72-7.72 1.47 1.35L5.41 20z\"/>\n",
              "  </svg>\n",
              "      </button>\n",
              "      \n",
              "  <style>\n",
              "    .colab-df-container {\n",
              "      display:flex;\n",
              "      flex-wrap:wrap;\n",
              "      gap: 12px;\n",
              "    }\n",
              "\n",
              "    .colab-df-convert {\n",
              "      background-color: #E8F0FE;\n",
              "      border: none;\n",
              "      border-radius: 50%;\n",
              "      cursor: pointer;\n",
              "      display: none;\n",
              "      fill: #1967D2;\n",
              "      height: 32px;\n",
              "      padding: 0 0 0 0;\n",
              "      width: 32px;\n",
              "    }\n",
              "\n",
              "    .colab-df-convert:hover {\n",
              "      background-color: #E2EBFA;\n",
              "      box-shadow: 0px 1px 2px rgba(60, 64, 67, 0.3), 0px 1px 3px 1px rgba(60, 64, 67, 0.15);\n",
              "      fill: #174EA6;\n",
              "    }\n",
              "\n",
              "    [theme=dark] .colab-df-convert {\n",
              "      background-color: #3B4455;\n",
              "      fill: #D2E3FC;\n",
              "    }\n",
              "\n",
              "    [theme=dark] .colab-df-convert:hover {\n",
              "      background-color: #434B5C;\n",
              "      box-shadow: 0px 1px 3px 1px rgba(0, 0, 0, 0.15);\n",
              "      filter: drop-shadow(0px 1px 2px rgba(0, 0, 0, 0.3));\n",
              "      fill: #FFFFFF;\n",
              "    }\n",
              "  </style>\n",
              "\n",
              "      <script>\n",
              "        const buttonEl =\n",
              "          document.querySelector('#df-bdd6e93e-9b61-4d84-a603-ae7822a866ed button.colab-df-convert');\n",
              "        buttonEl.style.display =\n",
              "          google.colab.kernel.accessAllowed ? 'block' : 'none';\n",
              "\n",
              "        async function convertToInteractive(key) {\n",
              "          const element = document.querySelector('#df-bdd6e93e-9b61-4d84-a603-ae7822a866ed');\n",
              "          const dataTable =\n",
              "            await google.colab.kernel.invokeFunction('convertToInteractive',\n",
              "                                                     [key], {});\n",
              "          if (!dataTable) return;\n",
              "\n",
              "          const docLinkHtml = 'Like what you see? Visit the ' +\n",
              "            '<a target=\"_blank\" href=https://colab.research.google.com/notebooks/data_table.ipynb>data table notebook</a>'\n",
              "            + ' to learn more about interactive tables.';\n",
              "          element.innerHTML = '';\n",
              "          dataTable['output_type'] = 'display_data';\n",
              "          await google.colab.output.renderOutput(dataTable, element);\n",
              "          const docLink = document.createElement('div');\n",
              "          docLink.innerHTML = docLinkHtml;\n",
              "          element.appendChild(docLink);\n",
              "        }\n",
              "      </script>\n",
              "    </div>\n",
              "  </div>\n",
              "  "
            ],
            "text/plain": [
              "               title  ... seriesInfo\n",
              "0            불편한 편의점  ...        NaN\n",
              "1              이방인 2  ...        NaN\n",
              "2  어서 오세요, 휴남동 서점입니다  ...        NaN\n",
              "3               밝은 밤  ...        NaN\n",
              "4                 백광  ...        NaN\n",
              "\n",
              "[5 rows x 24 columns]"
            ]
          },
          "metadata": {},
          "execution_count": 3
        }
      ]
    },
    {
      "cell_type": "code",
      "source": [
        "# 원본 데이터 csv 파일로 저장\n",
        "df.to_csv('/content/drive/MyDrive/books_origin.csv')"
      ],
      "metadata": {
        "id": "4B7LnW21ugZ5"
      },
      "execution_count": null,
      "outputs": []
    },
    {
      "cell_type": "code",
      "source": [
        "df = pd.read_csv('/content/drive/MyDrive/books_origin.csv',index_col=0)"
      ],
      "metadata": {
        "id": "Q5pXZs5wEIix"
      },
      "execution_count": null,
      "outputs": []
    },
    {
      "cell_type": "markdown",
      "source": [
        "### 🙋‍♂️***데이터 전처리 및 특성 추출***"
      ],
      "metadata": {
        "id": "M8C2rgEU-gaq"
      }
    },
    {
      "cell_type": "code",
      "source": [
        "pip install konlpy"
      ],
      "metadata": {
        "id": "rp4uZYspptdf"
      },
      "execution_count": null,
      "outputs": []
    },
    {
      "cell_type": "code",
      "source": [
        "from konlpy.tag import Komoran\n",
        "import re"
      ],
      "metadata": {
        "id": "qCeNQWO4-Sb0"
      },
      "execution_count": null,
      "outputs": []
    },
    {
      "cell_type": "code",
      "source": [
        "df = pd.read_csv('/content/drive/MyDrive/books_origin.csv',index_col=0)"
      ],
      "metadata": {
        "id": "CKJzOkenxnUW"
      },
      "execution_count": null,
      "outputs": []
    },
    {
      "cell_type": "code",
      "source": [
        "def preprocessing(df):\n",
        "    # 사용하지 않을 컬럼 삭제\n",
        "    drop_list = ['isbn', 'itemId', 'priceSales', 'mallType', 'stockStatus', 'mileage', 'categoryId', 'adult', 'fixedPrice', 'subInfo', 'seriesInfo', 'priceStandard', 'customerReviewRank', 'bestRank']\n",
        "    df = df.drop(drop_list, axis=1)\n",
        "\n",
        "    # 결측치 제거\n",
        "    df.dropna(inplace=True)\n",
        "\n",
        "    # ISBN 번호 기준 중복 도서 제거\n",
        "    df.drop_duplicates(['isbn13'], keep='first', inplace=True)\n",
        "\n",
        "    # 정규표현식을 사용한 제목 내 특수문자 및 설명 제거\n",
        "    df['title'] = df['title'].str.replace('\\(.*\\)|\\s-\\s.*|\\s:\\s.*|(\\+).+', '', regex=True)\n",
        "\n",
        "    # author 특성은 지은이, 옮긴이, 엮은이, 그린이 등이 모두 표기\n",
        "    # 예) 타케마치 (지은이), 토마리 (그림), 송재희 (옮긴이)\n",
        "\n",
        "    # 지은이 추출 (첫 괄호 앞 까지)\n",
        "    df['writer'] = df['author'].str.replace('\\(.*\\)', '', regex=True)\n",
        "\n",
        "    # 옮긴이 추출 (번역서인 경우)\n",
        "    def getTranslator(authors):\n",
        "        authors = str(authors).split(',')\n",
        "        translator = None\n",
        "        for author in authors:\n",
        "            if '옮긴이' in author:\n",
        "                translator = re.sub('\\(.*\\)', '', author)\n",
        "        return translator\n",
        "    df['translator'] = df['author'].apply(getTranslator)\n",
        "\n",
        "    # 출간일 데이터 분리\n",
        "    df['pubDate'] = pd.to_datetime(df['pubDate'])\n",
        "    df['pubYear'] = df['pubDate'].dt.year       # 연\n",
        "    df['pubMonth'] = df['pubDate'].dt.month     # 월\n",
        "    df['pubDay'] = df['pubDate'].dt.day         # 일\n",
        "\n",
        "    # 카테고리 분리\n",
        "    categories = df['categoryName'].str.split('>')\n",
        "    df['1stClass'] = categories.str.get(1)  # 첫번째 값은 전부 '국내도서'이기 때문에 제외\n",
        "    df['2ndClass'] = categories.str.get(2)\n",
        "    df['3rdClass'] = categories.str.get(3)  # 세번째 카테고리가 없는 경우 NaN처리\n",
        "    \n",
        "    # 상품 설명에서 키워드 추출\n",
        "    komoran = Komoran()\n",
        "\n",
        "    # 반복문 전 인덱스 재정렬\n",
        "    df = df.reset_index(drop=True)\n",
        "    \n",
        "    keyword = []\n",
        "    for i in range(len(df)):\n",
        "        if df['description'][i] != None:\n",
        "            # 이스케이프 문자 제거\n",
        "            description = re.sub('\\s',\" \", df['description'][i])   \n",
        "            words = set(komoran.nouns(description))\n",
        "        clearn_words = []\n",
        "\n",
        "        for word in words:\n",
        "            if len(word) != 1:  # 한 자릿 수 단어 제거\n",
        "                clearn_words.append(word) \n",
        "        # 키워드 중 최대 7개 사용\n",
        "        words = {}\n",
        "        keyword.append(clearn_words[:7])\n",
        "        \n",
        "    # 키워드 데이터와 기존 데이터 프레임 병합\n",
        "    keyword = pd.Series((i for i in keyword), name='keyword')\n",
        "    df = pd.concat([df, keyword], axis=1)\n",
        "\n",
        "    # 사용하지 않는 컬럼 제거\n",
        "    df.drop(['pubDate', 'categoryName', 'author', 'description'], axis=1, inplace=True)\n",
        "\n",
        "    # DB에 저장하기 위해 NaN값 None으로 처리\n",
        "    df = df.where(pd.notnull(df), None)\n",
        "\n",
        "    # 컬럼명 변경\n",
        "    df.rename(columns = {'isbn13': 'ISBN'}, inplace=True)\n",
        "\n",
        "    return df"
      ],
      "metadata": {
        "id": "vikUl38r9mWA"
      },
      "execution_count": null,
      "outputs": []
    },
    {
      "cell_type": "code",
      "source": [
        "df = preprocessing(df)"
      ],
      "metadata": {
        "id": "LHAjS3cc9sPs"
      },
      "execution_count": null,
      "outputs": []
    },
    {
      "cell_type": "code",
      "source": [
        "df.to_csv('/content/drive/MyDrive/books_df.csv', encoding='utf-8-sig')"
      ],
      "metadata": {
        "id": "Pjitmyxl_CCT"
      },
      "execution_count": null,
      "outputs": []
    },
    {
      "cell_type": "code",
      "source": [
        "drop_list = ['keyword', 'pubYear', 'pubMonth', 'pubDay']\n",
        "df.drop(drop_list, axis=1, inplace=True)"
      ],
      "metadata": {
        "id": "rwn9vkaRUjfC"
      },
      "execution_count": null,
      "outputs": []
    },
    {
      "cell_type": "code",
      "source": [
        "# keyword 제외하고 postgreSQL DB에 저장(csv 형태로 import)\n",
        "df.to_csv('/content/drive/MyDrive/books.csv', encoding='utf-8-sig')"
      ],
      "metadata": {
        "id": "8g108HubUsMi"
      },
      "execution_count": null,
      "outputs": []
    },
    {
      "cell_type": "markdown",
      "source": [
        "### 🙋‍♂️***데이터 시각화***\n",
        "1. 시대별 도서 카테고리(대분류)의 트렌드가 있을까?\n",
        "2. 2000년대 이후 카테고리(대분류) 별 출시량 대비 salepoint 추이는 어떨까?\n",
        "3. 소설/시/희곡(대분류)에서 시대별로 가장 사랑받은 카테고리(중분류)는 무엇일까?\n",
        "4. 경제경영(대분류)의 중분류 출판량은 시대별로 어떻게 변화했을까?\n",
        "4. 소설/시/희곡에서 시대별로 가장 사랑받은 출판사는 어디일까?"
      ],
      "metadata": {
        "id": "pOPhj_bOelft"
      }
    },
    {
      "cell_type": "code",
      "source": [
        "!sudo apt-get install -y fonts-nanum\n",
        "!sudo fc-cache -fv\n",
        "!rm ~/.cache/matplotlib -rf"
      ],
      "metadata": {
        "id": "b-A2uN5ioli-"
      },
      "execution_count": null,
      "outputs": []
    },
    {
      "cell_type": "code",
      "source": [
        "import matplotlib.pyplot as plt\n",
        "import seaborn as sns\n",
        "\n",
        "# 한글 폰트 설정\n",
        "plt.rc('font', family='NanumBarunGothic') "
      ],
      "metadata": {
        "id": "OxP788u1hjhr"
      },
      "execution_count": null,
      "outputs": []
    },
    {
      "cell_type": "code",
      "source": [
        "df = pd.read_csv('/content/drive/MyDrive/books_df.csv', index_col=0)"
      ],
      "metadata": {
        "id": "by06fgXWe4Zd"
      },
      "execution_count": null,
      "outputs": []
    },
    {
      "cell_type": "code",
      "source": [
        "df.head(1)"
      ],
      "metadata": {
        "colab": {
          "base_uri": "https://localhost:8080/",
          "height": 284
        },
        "id": "Kox00WvjGOws",
        "outputId": "1b0f299a-3741-4c22-d18c-aa569aaed933"
      },
      "execution_count": null,
      "outputs": [
        {
          "output_type": "execute_result",
          "data": {
            "text/html": [
              "\n",
              "  <div id=\"df-66b3b9d6-7008-4c97-9896-9c98da6f8c66\">\n",
              "    <div class=\"colab-df-container\">\n",
              "      <div>\n",
              "<style scoped>\n",
              "    .dataframe tbody tr th:only-of-type {\n",
              "        vertical-align: middle;\n",
              "    }\n",
              "\n",
              "    .dataframe tbody tr th {\n",
              "        vertical-align: top;\n",
              "    }\n",
              "\n",
              "    .dataframe thead th {\n",
              "        text-align: right;\n",
              "    }\n",
              "</style>\n",
              "<table border=\"1\" class=\"dataframe\">\n",
              "  <thead>\n",
              "    <tr style=\"text-align: right;\">\n",
              "      <th></th>\n",
              "      <th>title</th>\n",
              "      <th>link</th>\n",
              "      <th>ISBN</th>\n",
              "      <th>cover</th>\n",
              "      <th>publisher</th>\n",
              "      <th>salesPoint</th>\n",
              "      <th>writer</th>\n",
              "      <th>translator</th>\n",
              "      <th>pubYear</th>\n",
              "      <th>pubMonth</th>\n",
              "      <th>pubDay</th>\n",
              "      <th>1stClass</th>\n",
              "      <th>2ndClass</th>\n",
              "      <th>3rdClass</th>\n",
              "      <th>keyword</th>\n",
              "    </tr>\n",
              "  </thead>\n",
              "  <tbody>\n",
              "    <tr>\n",
              "      <th>0</th>\n",
              "      <td>불편한 편의점</td>\n",
              "      <td>http://www.aladin.co.kr/shop/wproduct.aspx?Ite...</td>\n",
              "      <td>9791161571188</td>\n",
              "      <td>https://image.aladin.co.kr/product/26942/84/co...</td>\n",
              "      <td>나무옆의자</td>\n",
              "      <td>277127</td>\n",
              "      <td>김호연</td>\n",
              "      <td>NaN</td>\n",
              "      <td>2021</td>\n",
              "      <td>4</td>\n",
              "      <td>20</td>\n",
              "      <td>소설/시/희곡</td>\n",
              "      <td>한국소설</td>\n",
              "      <td>2000년대 이후 한국소설</td>\n",
              "      <td>['브라더스', '작가', '시즌', '자리', '모퉁이', '시대', '희로애락']</td>\n",
              "    </tr>\n",
              "  </tbody>\n",
              "</table>\n",
              "</div>\n",
              "      <button class=\"colab-df-convert\" onclick=\"convertToInteractive('df-66b3b9d6-7008-4c97-9896-9c98da6f8c66')\"\n",
              "              title=\"Convert this dataframe to an interactive table.\"\n",
              "              style=\"display:none;\">\n",
              "        \n",
              "  <svg xmlns=\"http://www.w3.org/2000/svg\" height=\"24px\"viewBox=\"0 0 24 24\"\n",
              "       width=\"24px\">\n",
              "    <path d=\"M0 0h24v24H0V0z\" fill=\"none\"/>\n",
              "    <path d=\"M18.56 5.44l.94 2.06.94-2.06 2.06-.94-2.06-.94-.94-2.06-.94 2.06-2.06.94zm-11 1L8.5 8.5l.94-2.06 2.06-.94-2.06-.94L8.5 2.5l-.94 2.06-2.06.94zm10 10l.94 2.06.94-2.06 2.06-.94-2.06-.94-.94-2.06-.94 2.06-2.06.94z\"/><path d=\"M17.41 7.96l-1.37-1.37c-.4-.4-.92-.59-1.43-.59-.52 0-1.04.2-1.43.59L10.3 9.45l-7.72 7.72c-.78.78-.78 2.05 0 2.83L4 21.41c.39.39.9.59 1.41.59.51 0 1.02-.2 1.41-.59l7.78-7.78 2.81-2.81c.8-.78.8-2.07 0-2.86zM5.41 20L4 18.59l7.72-7.72 1.47 1.35L5.41 20z\"/>\n",
              "  </svg>\n",
              "      </button>\n",
              "      \n",
              "  <style>\n",
              "    .colab-df-container {\n",
              "      display:flex;\n",
              "      flex-wrap:wrap;\n",
              "      gap: 12px;\n",
              "    }\n",
              "\n",
              "    .colab-df-convert {\n",
              "      background-color: #E8F0FE;\n",
              "      border: none;\n",
              "      border-radius: 50%;\n",
              "      cursor: pointer;\n",
              "      display: none;\n",
              "      fill: #1967D2;\n",
              "      height: 32px;\n",
              "      padding: 0 0 0 0;\n",
              "      width: 32px;\n",
              "    }\n",
              "\n",
              "    .colab-df-convert:hover {\n",
              "      background-color: #E2EBFA;\n",
              "      box-shadow: 0px 1px 2px rgba(60, 64, 67, 0.3), 0px 1px 3px 1px rgba(60, 64, 67, 0.15);\n",
              "      fill: #174EA6;\n",
              "    }\n",
              "\n",
              "    [theme=dark] .colab-df-convert {\n",
              "      background-color: #3B4455;\n",
              "      fill: #D2E3FC;\n",
              "    }\n",
              "\n",
              "    [theme=dark] .colab-df-convert:hover {\n",
              "      background-color: #434B5C;\n",
              "      box-shadow: 0px 1px 3px 1px rgba(0, 0, 0, 0.15);\n",
              "      filter: drop-shadow(0px 1px 2px rgba(0, 0, 0, 0.3));\n",
              "      fill: #FFFFFF;\n",
              "    }\n",
              "  </style>\n",
              "\n",
              "      <script>\n",
              "        const buttonEl =\n",
              "          document.querySelector('#df-66b3b9d6-7008-4c97-9896-9c98da6f8c66 button.colab-df-convert');\n",
              "        buttonEl.style.display =\n",
              "          google.colab.kernel.accessAllowed ? 'block' : 'none';\n",
              "\n",
              "        async function convertToInteractive(key) {\n",
              "          const element = document.querySelector('#df-66b3b9d6-7008-4c97-9896-9c98da6f8c66');\n",
              "          const dataTable =\n",
              "            await google.colab.kernel.invokeFunction('convertToInteractive',\n",
              "                                                     [key], {});\n",
              "          if (!dataTable) return;\n",
              "\n",
              "          const docLinkHtml = 'Like what you see? Visit the ' +\n",
              "            '<a target=\"_blank\" href=https://colab.research.google.com/notebooks/data_table.ipynb>data table notebook</a>'\n",
              "            + ' to learn more about interactive tables.';\n",
              "          element.innerHTML = '';\n",
              "          dataTable['output_type'] = 'display_data';\n",
              "          await google.colab.output.renderOutput(dataTable, element);\n",
              "          const docLink = document.createElement('div');\n",
              "          docLink.innerHTML = docLinkHtml;\n",
              "          element.appendChild(docLink);\n",
              "        }\n",
              "      </script>\n",
              "    </div>\n",
              "  </div>\n",
              "  "
            ],
            "text/plain": [
              "     title  ...                                          keyword\n",
              "0  불편한 편의점  ...  ['브라더스', '작가', '시즌', '자리', '모퉁이', '시대', '희로애락']\n",
              "\n",
              "[1 rows x 15 columns]"
            ]
          },
          "metadata": {},
          "execution_count": 4
        }
      ]
    },
    {
      "cell_type": "markdown",
      "source": [
        "#### 🌟 1. 시대별 도서 카테고리(대분류)의 트렌드가 있을까?"
      ],
      "metadata": {
        "id": "oR7RQVQwk66Q"
      }
    },
    {
      "cell_type": "code",
      "source": [
        "df['1stClass'].value_counts()"
      ],
      "metadata": {
        "colab": {
          "base_uri": "https://localhost:8080/"
        },
        "id": "lVNvNAsRkkul",
        "outputId": "4c99522a-8cb8-47aa-a543-cf13a1552301"
      },
      "execution_count": null,
      "outputs": [
        {
          "output_type": "execute_result",
          "data": {
            "text/plain": [
              "소설/시/희곡      1416\n",
              "인문학           783\n",
              "에세이           660\n",
              "경제경영          645\n",
              "좋은부모          603\n",
              "컴퓨터/모바일       587\n",
              "건강/취미/레저      583\n",
              "자기계발          544\n",
              "청소년           494\n",
              "예술/대중문화       487\n",
              "역사            486\n",
              "사회과학          472\n",
              "가정/요리/뷰티      417\n",
              "과학            369\n",
              "여행            305\n",
              "대학교재/전문서적     206\n",
              "어린이            70\n",
              "종교/역학          57\n",
              "만화             39\n",
              "외국어            13\n",
              "유아             11\n",
              "잡지              9\n",
              "고전              6\n",
              "중학교참고서          5\n",
              "고등학교참고서         3\n",
              "수험서/자격증         2\n",
              "Name: 1stClass, dtype: int64"
            ]
          },
          "metadata": {},
          "execution_count": 5
        }
      ]
    },
    {
      "cell_type": "code",
      "source": [
        "# 연도 범위 확인\n",
        "print('pubYear column max value: ', df['pubYear'].max())\n",
        "print('pubYear column min value: ', df['pubYear'].min())"
      ],
      "metadata": {
        "colab": {
          "base_uri": "https://localhost:8080/"
        },
        "id": "nQOTAf28jc6Q",
        "outputId": "437f49a3-37e3-4ff4-91ee-e8ca699d9c06"
      },
      "execution_count": null,
      "outputs": [
        {
          "output_type": "stream",
          "name": "stdout",
          "text": [
            "pubYear column max value:  2022\n",
            "pubYear column min value:  1981\n"
          ]
        }
      ]
    },
    {
      "cell_type": "code",
      "source": [
        "# 카테고리(대분류) 및 출판 연도를 사용해 피벗테이블 생성\n",
        "cat_df = pd.pivot_table(df[['pubYear','1stClass']], index=pd.cut(df['pubYear'], np.array([1980, 1989, 1999, 2009, 2019, 2022])), columns='1stClass', aggfunc='count')\n",
        "cat_df = cat_df.T\n",
        "cat_df.reset_index(level=0, drop=True, inplace=True)    # 멀티 인덱스 제거\n",
        "\n",
        "cat_df.head()"
      ],
      "metadata": {
        "colab": {
          "base_uri": "https://localhost:8080/",
          "height": 238
        },
        "id": "zhdDCfBWjyQz",
        "outputId": "f35b4f58-cc02-4f3b-a822-7e580d154ddf"
      },
      "execution_count": null,
      "outputs": [
        {
          "output_type": "execute_result",
          "data": {
            "text/html": [
              "\n",
              "  <div id=\"df-b93f8755-a4d2-467c-ad72-ba0a72357f33\">\n",
              "    <div class=\"colab-df-container\">\n",
              "      <div>\n",
              "<style scoped>\n",
              "    .dataframe tbody tr th:only-of-type {\n",
              "        vertical-align: middle;\n",
              "    }\n",
              "\n",
              "    .dataframe tbody tr th {\n",
              "        vertical-align: top;\n",
              "    }\n",
              "\n",
              "    .dataframe thead th {\n",
              "        text-align: right;\n",
              "    }\n",
              "</style>\n",
              "<table border=\"1\" class=\"dataframe\">\n",
              "  <thead>\n",
              "    <tr style=\"text-align: right;\">\n",
              "      <th>pubYear</th>\n",
              "      <th>(1980, 1989]</th>\n",
              "      <th>(1989, 1999]</th>\n",
              "      <th>(1999, 2009]</th>\n",
              "      <th>(2009, 2019]</th>\n",
              "      <th>(2019, 2022]</th>\n",
              "    </tr>\n",
              "    <tr>\n",
              "      <th>1stClass</th>\n",
              "      <th></th>\n",
              "      <th></th>\n",
              "      <th></th>\n",
              "      <th></th>\n",
              "      <th></th>\n",
              "    </tr>\n",
              "  </thead>\n",
              "  <tbody>\n",
              "    <tr>\n",
              "      <th>가정/요리/뷰티</th>\n",
              "      <td>0</td>\n",
              "      <td>1</td>\n",
              "      <td>5</td>\n",
              "      <td>172</td>\n",
              "      <td>239</td>\n",
              "    </tr>\n",
              "    <tr>\n",
              "      <th>건강/취미/레저</th>\n",
              "      <td>0</td>\n",
              "      <td>2</td>\n",
              "      <td>12</td>\n",
              "      <td>294</td>\n",
              "      <td>275</td>\n",
              "    </tr>\n",
              "    <tr>\n",
              "      <th>경제경영</th>\n",
              "      <td>0</td>\n",
              "      <td>0</td>\n",
              "      <td>24</td>\n",
              "      <td>174</td>\n",
              "      <td>447</td>\n",
              "    </tr>\n",
              "    <tr>\n",
              "      <th>고등학교참고서</th>\n",
              "      <td>0</td>\n",
              "      <td>0</td>\n",
              "      <td>0</td>\n",
              "      <td>1</td>\n",
              "      <td>2</td>\n",
              "    </tr>\n",
              "    <tr>\n",
              "      <th>고전</th>\n",
              "      <td>0</td>\n",
              "      <td>1</td>\n",
              "      <td>1</td>\n",
              "      <td>4</td>\n",
              "      <td>0</td>\n",
              "    </tr>\n",
              "  </tbody>\n",
              "</table>\n",
              "</div>\n",
              "      <button class=\"colab-df-convert\" onclick=\"convertToInteractive('df-b93f8755-a4d2-467c-ad72-ba0a72357f33')\"\n",
              "              title=\"Convert this dataframe to an interactive table.\"\n",
              "              style=\"display:none;\">\n",
              "        \n",
              "  <svg xmlns=\"http://www.w3.org/2000/svg\" height=\"24px\"viewBox=\"0 0 24 24\"\n",
              "       width=\"24px\">\n",
              "    <path d=\"M0 0h24v24H0V0z\" fill=\"none\"/>\n",
              "    <path d=\"M18.56 5.44l.94 2.06.94-2.06 2.06-.94-2.06-.94-.94-2.06-.94 2.06-2.06.94zm-11 1L8.5 8.5l.94-2.06 2.06-.94-2.06-.94L8.5 2.5l-.94 2.06-2.06.94zm10 10l.94 2.06.94-2.06 2.06-.94-2.06-.94-.94-2.06-.94 2.06-2.06.94z\"/><path d=\"M17.41 7.96l-1.37-1.37c-.4-.4-.92-.59-1.43-.59-.52 0-1.04.2-1.43.59L10.3 9.45l-7.72 7.72c-.78.78-.78 2.05 0 2.83L4 21.41c.39.39.9.59 1.41.59.51 0 1.02-.2 1.41-.59l7.78-7.78 2.81-2.81c.8-.78.8-2.07 0-2.86zM5.41 20L4 18.59l7.72-7.72 1.47 1.35L5.41 20z\"/>\n",
              "  </svg>\n",
              "      </button>\n",
              "      \n",
              "  <style>\n",
              "    .colab-df-container {\n",
              "      display:flex;\n",
              "      flex-wrap:wrap;\n",
              "      gap: 12px;\n",
              "    }\n",
              "\n",
              "    .colab-df-convert {\n",
              "      background-color: #E8F0FE;\n",
              "      border: none;\n",
              "      border-radius: 50%;\n",
              "      cursor: pointer;\n",
              "      display: none;\n",
              "      fill: #1967D2;\n",
              "      height: 32px;\n",
              "      padding: 0 0 0 0;\n",
              "      width: 32px;\n",
              "    }\n",
              "\n",
              "    .colab-df-convert:hover {\n",
              "      background-color: #E2EBFA;\n",
              "      box-shadow: 0px 1px 2px rgba(60, 64, 67, 0.3), 0px 1px 3px 1px rgba(60, 64, 67, 0.15);\n",
              "      fill: #174EA6;\n",
              "    }\n",
              "\n",
              "    [theme=dark] .colab-df-convert {\n",
              "      background-color: #3B4455;\n",
              "      fill: #D2E3FC;\n",
              "    }\n",
              "\n",
              "    [theme=dark] .colab-df-convert:hover {\n",
              "      background-color: #434B5C;\n",
              "      box-shadow: 0px 1px 3px 1px rgba(0, 0, 0, 0.15);\n",
              "      filter: drop-shadow(0px 1px 2px rgba(0, 0, 0, 0.3));\n",
              "      fill: #FFFFFF;\n",
              "    }\n",
              "  </style>\n",
              "\n",
              "      <script>\n",
              "        const buttonEl =\n",
              "          document.querySelector('#df-b93f8755-a4d2-467c-ad72-ba0a72357f33 button.colab-df-convert');\n",
              "        buttonEl.style.display =\n",
              "          google.colab.kernel.accessAllowed ? 'block' : 'none';\n",
              "\n",
              "        async function convertToInteractive(key) {\n",
              "          const element = document.querySelector('#df-b93f8755-a4d2-467c-ad72-ba0a72357f33');\n",
              "          const dataTable =\n",
              "            await google.colab.kernel.invokeFunction('convertToInteractive',\n",
              "                                                     [key], {});\n",
              "          if (!dataTable) return;\n",
              "\n",
              "          const docLinkHtml = 'Like what you see? Visit the ' +\n",
              "            '<a target=\"_blank\" href=https://colab.research.google.com/notebooks/data_table.ipynb>data table notebook</a>'\n",
              "            + ' to learn more about interactive tables.';\n",
              "          element.innerHTML = '';\n",
              "          dataTable['output_type'] = 'display_data';\n",
              "          await google.colab.output.renderOutput(dataTable, element);\n",
              "          const docLink = document.createElement('div');\n",
              "          docLink.innerHTML = docLinkHtml;\n",
              "          element.appendChild(docLink);\n",
              "        }\n",
              "      </script>\n",
              "    </div>\n",
              "  </div>\n",
              "  "
            ],
            "text/plain": [
              "pubYear   (1980, 1989]  (1989, 1999]  (1999, 2009]  (2009, 2019]  (2019, 2022]\n",
              "1stClass                                                                      \n",
              "가정/요리/뷰티             0             1             5           172           239\n",
              "건강/취미/레저             0             2            12           294           275\n",
              "경제경영                 0             0            24           174           447\n",
              "고등학교참고서              0             0             0             1             2\n",
              "고전                   0             1             1             4             0"
            ]
          },
          "metadata": {},
          "execution_count": 7
        }
      ]
    },
    {
      "cell_type": "code",
      "source": [
        "fig = plt.figure(5, figsize=(19,7))\n",
        "colors = sns.color_palette('mako')\n",
        "\n",
        "plt.suptitle('시대별 출판량 상위 5개 카테고리', fontsize=17, fontweight='bold')\n",
        "plt.subplots_adjust(wspace=0.3, hspace=0.4)\n",
        "\n",
        "year = ['1980년대', '1990년대', '2000년대', '2010년대', '2020년대']\n",
        "year_col = cat_df.columns.to_list()\n",
        "\n",
        "for i in range(5):\n",
        "    plt.subplot(2, 3, i+1)\n",
        "    plt.title(year[i], fontsize=13)\n",
        "\n",
        "    data = cat_df.iloc[:,i].nlargest(5)\n",
        "    plot = sns.barplot(x=data.index, y=data.values, palette='GnBu')\n",
        "    \n",
        "    for p in plot.patches:  # 그래프에 값 표시하기\n",
        "        plot.annotate(format(p.get_height(), '.1f'), \n",
        "                   (p.get_x() + p.get_width() / 2., p.get_height()), \n",
        "                   ha = 'center', va = 'center', \n",
        "                   xytext = (0, 9), \n",
        "                   textcoords = 'offset points')\n",
        "    \n",
        "    plt.ylim([0, 1000])     # y축 범위 지정\n",
        "    plt.ylabel('Released', fontsize=11)\n",
        "plt.show()"
      ],
      "metadata": {
        "colab": {
          "base_uri": "https://localhost:8080/",
          "height": 493
        },
        "id": "77zqxpzzjNZj",
        "outputId": "10eae806-6dbf-499f-d276-b2b19a9db899"
      },
      "execution_count": null,
      "outputs": [
        {
          "output_type": "display_data",
          "data": {
            "image/png": "[encoded data removed]",
            "text/plain": [
              "<Figure size 1368x504 with 5 Axes>"
            ]
          },
          "metadata": {
            "needs_background": "light"
          }
        }
      ]
    },
    {
      "cell_type": "markdown",
      "source": [
        "- 소설/시/희곡은 시대를 막론하고 가장 많이 베스트셀러를 차지한 카테고리이다.\n",
        "- 인문학은 90년대부터 꾸준히 인기를 얻은 카테고리이다.\n",
        "- 2020년대에는 이제껏 상위권에 있지 않았던 경제경영, 컴퓨터/모바일 분야의 책이 많이 출간되었다."
      ],
      "metadata": {
        "id": "4kdJ8g2ftXPZ"
      }
    },
    {
      "cell_type": "markdown",
      "source": [
        "#### 🌟 2. 2000년대 이후 카테고리(대분류) 별 ***출시량 대비 sale point*** 추이는 어떨까?"
      ],
      "metadata": {
        "id": "Wg4_KMPs75Fd"
      }
    },
    {
      "cell_type": "code",
      "source": [
        "# sales point 범위 확인\n",
        "df['salesPoint'].describe()"
      ],
      "metadata": {
        "id": "C1oXM1eJ74zN",
        "colab": {
          "base_uri": "https://localhost:8080/"
        },
        "outputId": "668cd109-e7cf-49e0-d610-d63f1b47a091"
      },
      "execution_count": null,
      "outputs": [
        {
          "output_type": "execute_result",
          "data": {
            "text/plain": [
              "count      9272.000000\n",
              "mean       6768.090272\n",
              "std       13681.178338\n",
              "min          60.000000\n",
              "25%        1500.000000\n",
              "50%        3169.500000\n",
              "75%        6731.250000\n",
              "max      344924.000000\n",
              "Name: salesPoint, dtype: float64"
            ]
          },
          "metadata": {},
          "execution_count": 9
        }
      ]
    },
    {
      "cell_type": "code",
      "source": [
        "sales_df = df[df['pubYear'] >= 2000]    # 2000년대 이후 도서 추출                              \n",
        "\n",
        "sales_df = sales_df[['salesPoint', '1stClass']].groupby('1stClass').agg({'salesPoint':'sum', '1stClass':'count'})\n",
        "sales_df.rename(columns = {'1stClass':'count'}, inplace=True)    # 컬럼 명 변경\n",
        "sales_df = sales_df.nlargest(10, 'salesPoint')                   # 상위 10개 데이터 사용\n",
        "sales_df"
      ],
      "metadata": {
        "colab": {
          "base_uri": "https://localhost:8080/",
          "height": 394
        },
        "id": "Od9g0gfzGowE",
        "outputId": "4790d5a3-212a-491d-9fb0-3e6e3b0b7a50"
      },
      "execution_count": null,
      "outputs": [
        {
          "output_type": "execute_result",
          "data": {
            "text/html": [
              "\n",
              "  <div id=\"df-23552b6a-a3ce-421d-b488-a89ec7669bda\">\n",
              "    <div class=\"colab-df-container\">\n",
              "      <div>\n",
              "<style scoped>\n",
              "    .dataframe tbody tr th:only-of-type {\n",
              "        vertical-align: middle;\n",
              "    }\n",
              "\n",
              "    .dataframe tbody tr th {\n",
              "        vertical-align: top;\n",
              "    }\n",
              "\n",
              "    .dataframe thead th {\n",
              "        text-align: right;\n",
              "    }\n",
              "</style>\n",
              "<table border=\"1\" class=\"dataframe\">\n",
              "  <thead>\n",
              "    <tr style=\"text-align: right;\">\n",
              "      <th></th>\n",
              "      <th>salesPoint</th>\n",
              "      <th>count</th>\n",
              "    </tr>\n",
              "    <tr>\n",
              "      <th>1stClass</th>\n",
              "      <th></th>\n",
              "      <th></th>\n",
              "    </tr>\n",
              "  </thead>\n",
              "  <tbody>\n",
              "    <tr>\n",
              "      <th>소설/시/희곡</th>\n",
              "      <td>14119784</td>\n",
              "      <td>1386</td>\n",
              "    </tr>\n",
              "    <tr>\n",
              "      <th>경제경영</th>\n",
              "      <td>7176163</td>\n",
              "      <td>645</td>\n",
              "    </tr>\n",
              "    <tr>\n",
              "      <th>인문학</th>\n",
              "      <td>6910907</td>\n",
              "      <td>776</td>\n",
              "    </tr>\n",
              "    <tr>\n",
              "      <th>에세이</th>\n",
              "      <td>5700239</td>\n",
              "      <td>654</td>\n",
              "    </tr>\n",
              "    <tr>\n",
              "      <th>자기계발</th>\n",
              "      <td>4919195</td>\n",
              "      <td>544</td>\n",
              "    </tr>\n",
              "    <tr>\n",
              "      <th>사회과학</th>\n",
              "      <td>3193576</td>\n",
              "      <td>470</td>\n",
              "    </tr>\n",
              "    <tr>\n",
              "      <th>좋은부모</th>\n",
              "      <td>2959107</td>\n",
              "      <td>601</td>\n",
              "    </tr>\n",
              "    <tr>\n",
              "      <th>청소년</th>\n",
              "      <td>2886215</td>\n",
              "      <td>492</td>\n",
              "    </tr>\n",
              "    <tr>\n",
              "      <th>예술/대중문화</th>\n",
              "      <td>2861917</td>\n",
              "      <td>484</td>\n",
              "    </tr>\n",
              "    <tr>\n",
              "      <th>과학</th>\n",
              "      <td>2189036</td>\n",
              "      <td>367</td>\n",
              "    </tr>\n",
              "  </tbody>\n",
              "</table>\n",
              "</div>\n",
              "      <button class=\"colab-df-convert\" onclick=\"convertToInteractive('df-23552b6a-a3ce-421d-b488-a89ec7669bda')\"\n",
              "              title=\"Convert this dataframe to an interactive table.\"\n",
              "              style=\"display:none;\">\n",
              "        \n",
              "  <svg xmlns=\"http://www.w3.org/2000/svg\" height=\"24px\"viewBox=\"0 0 24 24\"\n",
              "       width=\"24px\">\n",
              "    <path d=\"M0 0h24v24H0V0z\" fill=\"none\"/>\n",
              "    <path d=\"M18.56 5.44l.94 2.06.94-2.06 2.06-.94-2.06-.94-.94-2.06-.94 2.06-2.06.94zm-11 1L8.5 8.5l.94-2.06 2.06-.94-2.06-.94L8.5 2.5l-.94 2.06-2.06.94zm10 10l.94 2.06.94-2.06 2.06-.94-2.06-.94-.94-2.06-.94 2.06-2.06.94z\"/><path d=\"M17.41 7.96l-1.37-1.37c-.4-.4-.92-.59-1.43-.59-.52 0-1.04.2-1.43.59L10.3 9.45l-7.72 7.72c-.78.78-.78 2.05 0 2.83L4 21.41c.39.39.9.59 1.41.59.51 0 1.02-.2 1.41-.59l7.78-7.78 2.81-2.81c.8-.78.8-2.07 0-2.86zM5.41 20L4 18.59l7.72-7.72 1.47 1.35L5.41 20z\"/>\n",
              "  </svg>\n",
              "      </button>\n",
              "      \n",
              "  <style>\n",
              "    .colab-df-container {\n",
              "      display:flex;\n",
              "      flex-wrap:wrap;\n",
              "      gap: 12px;\n",
              "    }\n",
              "\n",
              "    .colab-df-convert {\n",
              "      background-color: #E8F0FE;\n",
              "      border: none;\n",
              "      border-radius: 50%;\n",
              "      cursor: pointer;\n",
              "      display: none;\n",
              "      fill: #1967D2;\n",
              "      height: 32px;\n",
              "      padding: 0 0 0 0;\n",
              "      width: 32px;\n",
              "    }\n",
              "\n",
              "    .colab-df-convert:hover {\n",
              "      background-color: #E2EBFA;\n",
              "      box-shadow: 0px 1px 2px rgba(60, 64, 67, 0.3), 0px 1px 3px 1px rgba(60, 64, 67, 0.15);\n",
              "      fill: #174EA6;\n",
              "    }\n",
              "\n",
              "    [theme=dark] .colab-df-convert {\n",
              "      background-color: #3B4455;\n",
              "      fill: #D2E3FC;\n",
              "    }\n",
              "\n",
              "    [theme=dark] .colab-df-convert:hover {\n",
              "      background-color: #434B5C;\n",
              "      box-shadow: 0px 1px 3px 1px rgba(0, 0, 0, 0.15);\n",
              "      filter: drop-shadow(0px 1px 2px rgba(0, 0, 0, 0.3));\n",
              "      fill: #FFFFFF;\n",
              "    }\n",
              "  </style>\n",
              "\n",
              "      <script>\n",
              "        const buttonEl =\n",
              "          document.querySelector('#df-23552b6a-a3ce-421d-b488-a89ec7669bda button.colab-df-convert');\n",
              "        buttonEl.style.display =\n",
              "          google.colab.kernel.accessAllowed ? 'block' : 'none';\n",
              "\n",
              "        async function convertToInteractive(key) {\n",
              "          const element = document.querySelector('#df-23552b6a-a3ce-421d-b488-a89ec7669bda');\n",
              "          const dataTable =\n",
              "            await google.colab.kernel.invokeFunction('convertToInteractive',\n",
              "                                                     [key], {});\n",
              "          if (!dataTable) return;\n",
              "\n",
              "          const docLinkHtml = 'Like what you see? Visit the ' +\n",
              "            '<a target=\"_blank\" href=https://colab.research.google.com/notebooks/data_table.ipynb>data table notebook</a>'\n",
              "            + ' to learn more about interactive tables.';\n",
              "          element.innerHTML = '';\n",
              "          dataTable['output_type'] = 'display_data';\n",
              "          await google.colab.output.renderOutput(dataTable, element);\n",
              "          const docLink = document.createElement('div');\n",
              "          docLink.innerHTML = docLinkHtml;\n",
              "          element.appendChild(docLink);\n",
              "        }\n",
              "      </script>\n",
              "    </div>\n",
              "  </div>\n",
              "  "
            ],
            "text/plain": [
              "          salesPoint  count\n",
              "1stClass                   \n",
              "소설/시/희곡     14119784   1386\n",
              "경제경영         7176163    645\n",
              "인문학          6910907    776\n",
              "에세이          5700239    654\n",
              "자기계발         4919195    544\n",
              "사회과학         3193576    470\n",
              "좋은부모         2959107    601\n",
              "청소년          2886215    492\n",
              "예술/대중문화      2861917    484\n",
              "과학           2189036    367"
            ]
          },
          "metadata": {},
          "execution_count": 10
        }
      ]
    },
    {
      "cell_type": "code",
      "source": [
        "fig = plt.figure(figsize=(12, 9))\n",
        "\n",
        "plt.suptitle('2000년대 이후 카테고리 별 출시량 대비 sale point', fontsize=17, fontweight='bold')\n",
        "\n",
        "plt.scatter(data=sales_df, x='count', y='salesPoint',\n",
        "            s='count', c='count', cmap=plt.cm.GnBu)\n",
        "\n",
        "for x, y, s, country in zip(sales_df['count'], sales_df['salesPoint'], sales_df['count'], sales_df.index):\n",
        "    plt.text(x, y, country, va='center')\n",
        "\n",
        "plt.grid(True)\n",
        "plt.colorbar()\n",
        "\n",
        "plt.ylabel('sales point', fontsize=13)\n",
        "plt.xlabel('출시량', fontsize=13)\n",
        "plt.show()"
      ],
      "metadata": {
        "colab": {
          "base_uri": "https://localhost:8080/",
          "height": 620
        },
        "id": "L9DCZoiNFxAG",
        "outputId": "6849ffb0-26c2-49b0-8f2c-6a8e738232b6"
      },
      "execution_count": null,
      "outputs": [
        {
          "output_type": "display_data",
          "data": {
            "image/png": "[encoded data removed]",
            "text/plain": [
              "<Figure size 864x648 with 2 Axes>"
            ]
          },
          "metadata": {
            "needs_background": "light"
          }
        }
      ]
    },
    {
      "cell_type": "markdown",
      "source": [
        "- 2000년대 이후 소설/시/희곡 도서는 출시량과 sales point가 다른 카테고리에 비해 압도적으로 많았다.\n",
        "- 인문학 도서는 출시량이 두번째로 많았지만, sales point는 경제 경영 도서와 비슷했다."
      ],
      "metadata": {
        "id": "MGZ8VDQfQIpQ"
      }
    },
    {
      "cell_type": "markdown",
      "source": [
        "#### 🌟 3. ***소설/시/희곡(대분류)***에서 시대별로 가장 사랑받은 카테고리(중분류)는 무엇일까?"
      ],
      "metadata": {
        "id": "uZ1wEH_NuFDx"
      }
    },
    {
      "cell_type": "code",
      "source": [
        "# 대분류 카테고리를 받아 시대별 중분류 도서 수 데이터 프레임을 반환하는 함수\n",
        "def getSecondCat(cat_name):\n",
        "    second_df = df[df['1stClass'] == cat_name]\n",
        "    second_df = pd.pivot_table(second_df[['pubYear','2ndClass']], index=pd.cut(second_df['pubYear'], np.array([1980, 1989, 1999, 2009, 2019, 2022])), columns='2ndClass', aggfunc='count')\n",
        "\n",
        "    second_df = second_df.T\n",
        "    second_df.reset_index(level=0, drop=True, inplace=True)\n",
        "\n",
        "    return second_df"
      ],
      "metadata": {
        "id": "RkGMljYSYxXP"
      },
      "execution_count": null,
      "outputs": []
    },
    {
      "cell_type": "code",
      "source": [
        "# 데이터 프레임을 받아 시대별 상위 5대 카테고리의 pie chart를 반환하는 함수\n",
        "def getSecondCatPie(cat_name, df):\n",
        "    fig = plt.figure(4, figsize=(12,12))\n",
        "    colors = sns.color_palette('mako')\n",
        "\n",
        "    plt.suptitle(f'{cat_name} 분야의 시대별 상위 5개 카테고리(중분류)', fontsize=17, fontweight='bold')\n",
        "    year_col = df.columns.to_list()\n",
        "    year = ['1980년대', '1990년대', '2000년대', '2010년대', '2020년대']\n",
        "    \n",
        "    # 도서가 거의 출간되지 않은 80년대는 제외\n",
        "    for i in range(1, 5):   \n",
        "        plt.subplot(2, 2, i)\n",
        "\n",
        "        plt.title(year[i], fontsize=14.5, fontweight='bold')\n",
        "        \n",
        "        # top 5 데이터 선택\n",
        "        data = df.iloc[:,i].nlargest(5)  \n",
        "        top5_list = data.index.to_list()\n",
        "\n",
        "        # top 5가 아닌 데이터 other로 설정\n",
        "        other = df.iloc[:,i].drop(index = top5_list)  \n",
        "        data.loc['기타'] = other.sum()\n",
        "    \n",
        "        # 라벨명 맞추기\n",
        "        labels = data.index.tolist()            \n",
        "        _, _, autopcts = plt.pie(data, startangle=90, counterclock=False, colors = colors, autopct='%.0f%%')\n",
        "        plt.legend(labels, loc='upper right', bbox_to_anchor=(1.2, 1))           # 범례표시\n",
        "        plt.setp(autopcts, **{'color':'white', 'weight':'bold', 'fontsize':10})   # 퍼센트 값 흰색으로 설정"
      ],
      "metadata": {
        "id": "jYpRHR5vxq0-"
      },
      "execution_count": null,
      "outputs": []
    },
    {
      "cell_type": "code",
      "source": [
        "novel_df = getSecondCat('소설/시/희곡')\n",
        "novel_df.head()"
      ],
      "metadata": {
        "colab": {
          "base_uri": "https://localhost:8080/",
          "height": 238
        },
        "id": "FfShBW9TdUEQ",
        "outputId": "5ee00205-28f4-4415-c73e-646af9a1e237"
      },
      "execution_count": null,
      "outputs": [
        {
          "output_type": "execute_result",
          "data": {
            "text/html": [
              "\n",
              "  <div id=\"df-134b4f0f-caac-4524-8c87-8b96687ee585\">\n",
              "    <div class=\"colab-df-container\">\n",
              "      <div>\n",
              "<style scoped>\n",
              "    .dataframe tbody tr th:only-of-type {\n",
              "        vertical-align: middle;\n",
              "    }\n",
              "\n",
              "    .dataframe tbody tr th {\n",
              "        vertical-align: top;\n",
              "    }\n",
              "\n",
              "    .dataframe thead th {\n",
              "        text-align: right;\n",
              "    }\n",
              "</style>\n",
              "<table border=\"1\" class=\"dataframe\">\n",
              "  <thead>\n",
              "    <tr style=\"text-align: right;\">\n",
              "      <th>pubYear</th>\n",
              "      <th>(1980, 1989]</th>\n",
              "      <th>(1989, 1999]</th>\n",
              "      <th>(1999, 2009]</th>\n",
              "      <th>(2009, 2019]</th>\n",
              "      <th>(2019, 2022]</th>\n",
              "    </tr>\n",
              "    <tr>\n",
              "      <th>2ndClass</th>\n",
              "      <th></th>\n",
              "      <th></th>\n",
              "      <th></th>\n",
              "      <th></th>\n",
              "      <th></th>\n",
              "    </tr>\n",
              "  </thead>\n",
              "  <tbody>\n",
              "    <tr>\n",
              "      <th>과학소설(SF)</th>\n",
              "      <td>0</td>\n",
              "      <td>1</td>\n",
              "      <td>7</td>\n",
              "      <td>32</td>\n",
              "      <td>67</td>\n",
              "    </tr>\n",
              "    <tr>\n",
              "      <th>독일소설</th>\n",
              "      <td>0</td>\n",
              "      <td>5</td>\n",
              "      <td>10</td>\n",
              "      <td>15</td>\n",
              "      <td>17</td>\n",
              "    </tr>\n",
              "    <tr>\n",
              "      <th>라이트 노벨</th>\n",
              "      <td>0</td>\n",
              "      <td>0</td>\n",
              "      <td>0</td>\n",
              "      <td>21</td>\n",
              "      <td>93</td>\n",
              "    </tr>\n",
              "    <tr>\n",
              "      <th>러시아소설</th>\n",
              "      <td>0</td>\n",
              "      <td>2</td>\n",
              "      <td>13</td>\n",
              "      <td>27</td>\n",
              "      <td>10</td>\n",
              "    </tr>\n",
              "    <tr>\n",
              "      <th>로맨스소설</th>\n",
              "      <td>0</td>\n",
              "      <td>0</td>\n",
              "      <td>1</td>\n",
              "      <td>22</td>\n",
              "      <td>56</td>\n",
              "    </tr>\n",
              "  </tbody>\n",
              "</table>\n",
              "</div>\n",
              "      <button class=\"colab-df-convert\" onclick=\"convertToInteractive('df-134b4f0f-caac-4524-8c87-8b96687ee585')\"\n",
              "              title=\"Convert this dataframe to an interactive table.\"\n",
              "              style=\"display:none;\">\n",
              "        \n",
              "  <svg xmlns=\"http://www.w3.org/2000/svg\" height=\"24px\"viewBox=\"0 0 24 24\"\n",
              "       width=\"24px\">\n",
              "    <path d=\"M0 0h24v24H0V0z\" fill=\"none\"/>\n",
              "    <path d=\"M18.56 5.44l.94 2.06.94-2.06 2.06-.94-2.06-.94-.94-2.06-.94 2.06-2.06.94zm-11 1L8.5 8.5l.94-2.06 2.06-.94-2.06-.94L8.5 2.5l-.94 2.06-2.06.94zm10 10l.94 2.06.94-2.06 2.06-.94-2.06-.94-.94-2.06-.94 2.06-2.06.94z\"/><path d=\"M17.41 7.96l-1.37-1.37c-.4-.4-.92-.59-1.43-.59-.52 0-1.04.2-1.43.59L10.3 9.45l-7.72 7.72c-.78.78-.78 2.05 0 2.83L4 21.41c.39.39.9.59 1.41.59.51 0 1.02-.2 1.41-.59l7.78-7.78 2.81-2.81c.8-.78.8-2.07 0-2.86zM5.41 20L4 18.59l7.72-7.72 1.47 1.35L5.41 20z\"/>\n",
              "  </svg>\n",
              "      </button>\n",
              "      \n",
              "  <style>\n",
              "    .colab-df-container {\n",
              "      display:flex;\n",
              "      flex-wrap:wrap;\n",
              "      gap: 12px;\n",
              "    }\n",
              "\n",
              "    .colab-df-convert {\n",
              "      background-color: #E8F0FE;\n",
              "      border: none;\n",
              "      border-radius: 50%;\n",
              "      cursor: pointer;\n",
              "      display: none;\n",
              "      fill: #1967D2;\n",
              "      height: 32px;\n",
              "      padding: 0 0 0 0;\n",
              "      width: 32px;\n",
              "    }\n",
              "\n",
              "    .colab-df-convert:hover {\n",
              "      background-color: #E2EBFA;\n",
              "      box-shadow: 0px 1px 2px rgba(60, 64, 67, 0.3), 0px 1px 3px 1px rgba(60, 64, 67, 0.15);\n",
              "      fill: #174EA6;\n",
              "    }\n",
              "\n",
              "    [theme=dark] .colab-df-convert {\n",
              "      background-color: #3B4455;\n",
              "      fill: #D2E3FC;\n",
              "    }\n",
              "\n",
              "    [theme=dark] .colab-df-convert:hover {\n",
              "      background-color: #434B5C;\n",
              "      box-shadow: 0px 1px 3px 1px rgba(0, 0, 0, 0.15);\n",
              "      filter: drop-shadow(0px 1px 2px rgba(0, 0, 0, 0.3));\n",
              "      fill: #FFFFFF;\n",
              "    }\n",
              "  </style>\n",
              "\n",
              "      <script>\n",
              "        const buttonEl =\n",
              "          document.querySelector('#df-134b4f0f-caac-4524-8c87-8b96687ee585 button.colab-df-convert');\n",
              "        buttonEl.style.display =\n",
              "          google.colab.kernel.accessAllowed ? 'block' : 'none';\n",
              "\n",
              "        async function convertToInteractive(key) {\n",
              "          const element = document.querySelector('#df-134b4f0f-caac-4524-8c87-8b96687ee585');\n",
              "          const dataTable =\n",
              "            await google.colab.kernel.invokeFunction('convertToInteractive',\n",
              "                                                     [key], {});\n",
              "          if (!dataTable) return;\n",
              "\n",
              "          const docLinkHtml = 'Like what you see? Visit the ' +\n",
              "            '<a target=\"_blank\" href=https://colab.research.google.com/notebooks/data_table.ipynb>data table notebook</a>'\n",
              "            + ' to learn more about interactive tables.';\n",
              "          element.innerHTML = '';\n",
              "          dataTable['output_type'] = 'display_data';\n",
              "          await google.colab.output.renderOutput(dataTable, element);\n",
              "          const docLink = document.createElement('div');\n",
              "          docLink.innerHTML = docLinkHtml;\n",
              "          element.appendChild(docLink);\n",
              "        }\n",
              "      </script>\n",
              "    </div>\n",
              "  </div>\n",
              "  "
            ],
            "text/plain": [
              "pubYear   (1980, 1989]  (1989, 1999]  (1999, 2009]  (2009, 2019]  (2019, 2022]\n",
              "2ndClass                                                                      \n",
              "과학소설(SF)             0             1             7            32            67\n",
              "독일소설                 0             5            10            15            17\n",
              "라이트 노벨               0             0             0            21            93\n",
              "러시아소설                0             2            13            27            10\n",
              "로맨스소설                0             0             1            22            56"
            ]
          },
          "metadata": {},
          "execution_count": 14
        }
      ]
    },
    {
      "cell_type": "code",
      "source": [
        "getSecondCatPie('소설/시/희곡', novel_df)"
      ],
      "metadata": {
        "colab": {
          "base_uri": "https://localhost:8080/",
          "height": 770
        },
        "id": "GOpzze7edWNP",
        "outputId": "14a011cc-9ac2-4987-cce4-c60d5f073002"
      },
      "execution_count": null,
      "outputs": [
        {
          "output_type": "display_data",
          "data": {
            "image/png": "[encoded data removed]",
            "text/plain": [
              "<Figure size 864x864 with 4 Axes>"
            ]
          },
          "metadata": {}
        }
      ]
    },
    {
      "cell_type": "markdown",
      "source": [
        "- 영미소설, 추리/미스터리 소설은 꾸준히 인기있었다.\n",
        "- 2010년대 부터 한국소설이 다시 인기를 끌었다. 이 시기부터 문단에서 젊은 작가들이 주목받기 시작했다. \n",
        "- 2020년대에는 과학소설(SF)분야가 새롭게 상위 카테고리에 올랐다. 과학 기술에 대한 관심과 더불어 김초엽, 천선란, 황모과 등 젊은 여성 작가들의 약진이 두드러졌다.\n",
        "- 2020년대의 또 다른 특이점은 라이트 노벨이다. 라이트노벨은 일본에서 시작된 장르로 만화/애니메이션 풍의 일러스트가 들어간 소설 장르이다. 차트에서 가장 많은 비율을 차지했다."
      ],
      "metadata": {
        "id": "QLmS6__x0nIa"
      }
    },
    {
      "cell_type": "markdown",
      "source": [
        "#### 🌟 4. ***경제경영(대분류)***의 중분류 출판량은 시대별로 어떻게 변화했을까?"
      ],
      "metadata": {
        "id": "Y0r1XLlmddDc"
      }
    },
    {
      "cell_type": "code",
      "source": [
        "economic_df = getSecondCat('경제경영')\n",
        "economic_df.head()"
      ],
      "metadata": {
        "colab": {
          "base_uri": "https://localhost:8080/",
          "height": 238
        },
        "id": "goVvnBAMfd3u",
        "outputId": "6e325993-c9b5-4423-9fe3-db4072e6aeea"
      },
      "execution_count": null,
      "outputs": [
        {
          "output_type": "execute_result",
          "data": {
            "text/html": [
              "\n",
              "  <div id=\"df-f8235157-a099-4dc9-a3bf-ea30468c403f\">\n",
              "    <div class=\"colab-df-container\">\n",
              "      <div>\n",
              "<style scoped>\n",
              "    .dataframe tbody tr th:only-of-type {\n",
              "        vertical-align: middle;\n",
              "    }\n",
              "\n",
              "    .dataframe tbody tr th {\n",
              "        vertical-align: top;\n",
              "    }\n",
              "\n",
              "    .dataframe thead th {\n",
              "        text-align: right;\n",
              "    }\n",
              "</style>\n",
              "<table border=\"1\" class=\"dataframe\">\n",
              "  <thead>\n",
              "    <tr style=\"text-align: right;\">\n",
              "      <th>pubYear</th>\n",
              "      <th>(1980, 1989]</th>\n",
              "      <th>(1989, 1999]</th>\n",
              "      <th>(1999, 2009]</th>\n",
              "      <th>(2009, 2019]</th>\n",
              "      <th>(2019, 2022]</th>\n",
              "    </tr>\n",
              "    <tr>\n",
              "      <th>2ndClass</th>\n",
              "      <th></th>\n",
              "      <th></th>\n",
              "      <th></th>\n",
              "      <th></th>\n",
              "      <th></th>\n",
              "    </tr>\n",
              "  </thead>\n",
              "  <tbody>\n",
              "    <tr>\n",
              "      <th>CEO/비즈니스맨을 위한 능력계발</th>\n",
              "      <td>0</td>\n",
              "      <td>0</td>\n",
              "      <td>0</td>\n",
              "      <td>6</td>\n",
              "      <td>3</td>\n",
              "    </tr>\n",
              "    <tr>\n",
              "      <th>[경제경영 사상가 20인]</th>\n",
              "      <td>0</td>\n",
              "      <td>0</td>\n",
              "      <td>2</td>\n",
              "      <td>4</td>\n",
              "      <td>9</td>\n",
              "    </tr>\n",
              "    <tr>\n",
              "      <th>[포브스 100대 기업]</th>\n",
              "      <td>0</td>\n",
              "      <td>0</td>\n",
              "      <td>0</td>\n",
              "      <td>3</td>\n",
              "      <td>4</td>\n",
              "    </tr>\n",
              "    <tr>\n",
              "      <th>경제학/경제일반</th>\n",
              "      <td>0</td>\n",
              "      <td>0</td>\n",
              "      <td>4</td>\n",
              "      <td>20</td>\n",
              "      <td>52</td>\n",
              "    </tr>\n",
              "    <tr>\n",
              "      <th>기업 경영</th>\n",
              "      <td>0</td>\n",
              "      <td>0</td>\n",
              "      <td>1</td>\n",
              "      <td>14</td>\n",
              "      <td>66</td>\n",
              "    </tr>\n",
              "  </tbody>\n",
              "</table>\n",
              "</div>\n",
              "      <button class=\"colab-df-convert\" onclick=\"convertToInteractive('df-f8235157-a099-4dc9-a3bf-ea30468c403f')\"\n",
              "              title=\"Convert this dataframe to an interactive table.\"\n",
              "              style=\"display:none;\">\n",
              "        \n",
              "  <svg xmlns=\"http://www.w3.org/2000/svg\" height=\"24px\"viewBox=\"0 0 24 24\"\n",
              "       width=\"24px\">\n",
              "    <path d=\"M0 0h24v24H0V0z\" fill=\"none\"/>\n",
              "    <path d=\"M18.56 5.44l.94 2.06.94-2.06 2.06-.94-2.06-.94-.94-2.06-.94 2.06-2.06.94zm-11 1L8.5 8.5l.94-2.06 2.06-.94-2.06-.94L8.5 2.5l-.94 2.06-2.06.94zm10 10l.94 2.06.94-2.06 2.06-.94-2.06-.94-.94-2.06-.94 2.06-2.06.94z\"/><path d=\"M17.41 7.96l-1.37-1.37c-.4-.4-.92-.59-1.43-.59-.52 0-1.04.2-1.43.59L10.3 9.45l-7.72 7.72c-.78.78-.78 2.05 0 2.83L4 21.41c.39.39.9.59 1.41.59.51 0 1.02-.2 1.41-.59l7.78-7.78 2.81-2.81c.8-.78.8-2.07 0-2.86zM5.41 20L4 18.59l7.72-7.72 1.47 1.35L5.41 20z\"/>\n",
              "  </svg>\n",
              "      </button>\n",
              "      \n",
              "  <style>\n",
              "    .colab-df-container {\n",
              "      display:flex;\n",
              "      flex-wrap:wrap;\n",
              "      gap: 12px;\n",
              "    }\n",
              "\n",
              "    .colab-df-convert {\n",
              "      background-color: #E8F0FE;\n",
              "      border: none;\n",
              "      border-radius: 50%;\n",
              "      cursor: pointer;\n",
              "      display: none;\n",
              "      fill: #1967D2;\n",
              "      height: 32px;\n",
              "      padding: 0 0 0 0;\n",
              "      width: 32px;\n",
              "    }\n",
              "\n",
              "    .colab-df-convert:hover {\n",
              "      background-color: #E2EBFA;\n",
              "      box-shadow: 0px 1px 2px rgba(60, 64, 67, 0.3), 0px 1px 3px 1px rgba(60, 64, 67, 0.15);\n",
              "      fill: #174EA6;\n",
              "    }\n",
              "\n",
              "    [theme=dark] .colab-df-convert {\n",
              "      background-color: #3B4455;\n",
              "      fill: #D2E3FC;\n",
              "    }\n",
              "\n",
              "    [theme=dark] .colab-df-convert:hover {\n",
              "      background-color: #434B5C;\n",
              "      box-shadow: 0px 1px 3px 1px rgba(0, 0, 0, 0.15);\n",
              "      filter: drop-shadow(0px 1px 2px rgba(0, 0, 0, 0.3));\n",
              "      fill: #FFFFFF;\n",
              "    }\n",
              "  </style>\n",
              "\n",
              "      <script>\n",
              "        const buttonEl =\n",
              "          document.querySelector('#df-f8235157-a099-4dc9-a3bf-ea30468c403f button.colab-df-convert');\n",
              "        buttonEl.style.display =\n",
              "          google.colab.kernel.accessAllowed ? 'block' : 'none';\n",
              "\n",
              "        async function convertToInteractive(key) {\n",
              "          const element = document.querySelector('#df-f8235157-a099-4dc9-a3bf-ea30468c403f');\n",
              "          const dataTable =\n",
              "            await google.colab.kernel.invokeFunction('convertToInteractive',\n",
              "                                                     [key], {});\n",
              "          if (!dataTable) return;\n",
              "\n",
              "          const docLinkHtml = 'Like what you see? Visit the ' +\n",
              "            '<a target=\"_blank\" href=https://colab.research.google.com/notebooks/data_table.ipynb>data table notebook</a>'\n",
              "            + ' to learn more about interactive tables.';\n",
              "          element.innerHTML = '';\n",
              "          dataTable['output_type'] = 'display_data';\n",
              "          await google.colab.output.renderOutput(dataTable, element);\n",
              "          const docLink = document.createElement('div');\n",
              "          docLink.innerHTML = docLinkHtml;\n",
              "          element.appendChild(docLink);\n",
              "        }\n",
              "      </script>\n",
              "    </div>\n",
              "  </div>\n",
              "  "
            ],
            "text/plain": [
              "pubYear             (1980, 1989]  (1989, 1999]  ...  (2009, 2019]  (2019, 2022]\n",
              "2ndClass                                        ...                            \n",
              "CEO/비즈니스맨을 위한 능력계발             0             0  ...             6             3\n",
              "[경제경영 사상가 20인]                 0             0  ...             4             9\n",
              "[포브스 100대 기업]                  0             0  ...             3             4\n",
              "경제학/경제일반                       0             0  ...            20            52\n",
              "기업 경영                          0             0  ...            14            66\n",
              "\n",
              "[5 rows x 5 columns]"
            ]
          },
          "metadata": {},
          "execution_count": 16
        }
      ]
    },
    {
      "cell_type": "code",
      "source": [
        "fig = plt.figure(4, figsize=(9,7))\n",
        "plt.suptitle('경제경영 분야의 시대별 중분류 출판량 변화', fontsize=17, fontweight='bold')\n",
        "ax = sns.heatmap(economic_df, \n",
        "                 annot=True,    # 표에 숫자 표시 \n",
        "                 fmt='d',       # 정수형으로 포매팅 \n",
        "                 cbar=True,     # 컬러바 표시\n",
        "                 xticklabels=year,\n",
        "                 cmap=plt.cm.GnBu)"
      ],
      "metadata": {
        "colab": {
          "base_uri": "https://localhost:8080/",
          "height": 493
        },
        "id": "Uf8uICCkfhL8",
        "outputId": "eb47c056-ef9a-45c1-fa19-d7eedf731334"
      },
      "execution_count": null,
      "outputs": [
        {
          "output_type": "display_data",
          "data": {
            "image/png": "[encoded data removed]",
            "text/plain": [
              "<Figure size 648x504 with 2 Axes>"
            ]
          },
          "metadata": {
            "needs_background": "light"
          }
        }
      ]
    },
    {
      "cell_type": "markdown",
      "source": [
        "- 한 카테고리(CEO/비즈니스맨을 위한 능력개발)를 제외하고는 모든 카테고리에서 출판량이 시대에 따라 증가했다. \n",
        "- 특히 재태크/투자 카테고리의 인기가 2020년대 들어서 많이 증가했다. 이는 코로나 19의 영향이 컸다고 할 수 있다. 주식과 부동산뿐만 아니라 가상화폐, 메타버스 등 새로운 투자방식에 대한 사람들의 관심이 지속되고 있다."
      ],
      "metadata": {
        "id": "5AnwItgRjJaY"
      }
    },
    {
      "cell_type": "markdown",
      "source": [
        "#### 🌟 5. 카테고리별 인기있는 ***출판사***는 어디일까?"
      ],
      "metadata": {
        "id": "OCGUoid36u9M"
      }
    },
    {
      "cell_type": "code",
      "source": [
        "pub_df = df[df['pubYear'] >= 2000]\n",
        "top5_cat_list = sales_df.nlargest(6, 'salesPoint').index.to_list()  # salesPoint기준 상위 5개 카테고리만 선택\n",
        "\n",
        "fig = plt.figure(5, figsize=(20,8))\n",
        "plt.suptitle('2000년대 이후 카테고리별 출시량 상위 5개 출판사', fontsize=17, fontweight='bold')\n",
        "plt.subplots_adjust(wspace=0.4, hspace=0.4)\n",
        "\n",
        "for i in range(len(top5_cat_list)):\n",
        "    plt.subplot(2, 3, i+1)\n",
        "    plt.title(top5_cat_list[i], fontsize=14.5, fontweight='bold')\n",
        "\n",
        "    data = pub_df[pub_df['1stClass']==top5_cat_list[i]].groupby('publisher').size().nlargest(5)\n",
        "    plot = sns.barplot(x=data.values, y=data.index, palette='YlGnBu')\n",
        "\n",
        "    plt.xlabel('출시량', fontsize=11)\n",
        "    plt.ylabel('')\n",
        "plt.show()"
      ],
      "metadata": {
        "colab": {
          "base_uri": "https://localhost:8080/",
          "height": 556
        },
        "id": "uHfdpnxkgsBU",
        "outputId": "8008b38a-947b-4484-9828-9c811894c70f"
      },
      "execution_count": null,
      "outputs": [
        {
          "output_type": "display_data",
          "data": {
            "image/png": "[encoded data removed]",
            "text/plain": [
              "<Figure size 1440x576 with 6 Axes>"
            ]
          },
          "metadata": {
            "needs_background": "light"
          }
        }
      ]
    },
    {
      "cell_type": "markdown",
      "source": [
        "- 민음사와 황금가지는 같은 민음사 출판그룹으로, 소설/시/희곡 분야에서 민음사의 입지가 크다는 것을 알 수 있다."
      ],
      "metadata": {
        "id": "8JC3gcJTkmtp"
      }
    }
  ]
}